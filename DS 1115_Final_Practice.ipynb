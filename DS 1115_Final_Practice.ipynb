{
 "cells": [
  {
   "cell_type": "markdown",
   "id": "c9a42b81",
   "metadata": {},
   "source": [
    "# Exception Handling"
   ]
  },
  {
   "cell_type": "markdown",
   "id": "d5634084",
   "metadata": {},
   "source": [
    "1️⃣ Write Python code to read a number from the user and divide 100 by that number. Handle ZeroDivisionError and ValueError properly and print custom error messages."
   ]
  },
  {
   "cell_type": "code",
   "execution_count": 1,
   "id": "f817582d",
   "metadata": {},
   "outputs": [
    {
     "name": "stdout",
     "output_type": "stream",
     "text": [
      "Result: 4.0\n"
     ]
    }
   ],
   "source": [
    "try:\n",
    "    num=int(input(\"Enter a number: \"))\n",
    "    divide= 100/num\n",
    "    print(f\"Result: {divide}\")\n",
    "except ZeroDivisionError:\n",
    "    print(\"Error: Cannot divide by zero. Please enter a non-zero number.\")\n",
    "except ValueError:\n",
    "    print(\"Error: Invalid input. Please enter a valid integer number.\")"
   ]
  },
  {
   "cell_type": "markdown",
   "id": "31946e56",
   "metadata": {},
   "source": [
    "2️⃣ What is the purpose of the finally block in exception handling? Give an example where it makes sense to use finally."
   ]
  },
  {
   "cell_type": "markdown",
   "id": "05244a6c",
   "metadata": {},
   "source": [
    "3️⃣ Explain the difference between try-except and try-except-else."
   ]
  },
  {
   "cell_type": "markdown",
   "id": "c52b3ed7",
   "metadata": {},
   "source": [
    "Q1. Write a function that takes a list of numbers and returns their average.\n",
    "Raise a ValueError if the list is empty."
   ]
  },
  {
   "cell_type": "code",
   "execution_count": 2,
   "id": "991534c3",
   "metadata": {},
   "outputs": [
    {
     "name": "stdout",
     "output_type": "stream",
     "text": [
      "3.25\n"
     ]
    }
   ],
   "source": [
    "def get_avg(num):\n",
    "    if not num:\n",
    "        raise ValueError(\"The list is empty. Cnnot calculate average\")\n",
    "    else:\n",
    "        average=sum(num)/len(num)\n",
    "        print(average)\n",
    "\n",
    "get_avg([1,2,3,3,4,2,5,6])"
   ]
  },
  {
   "cell_type": "markdown",
   "id": "cf5d2713",
   "metadata": {},
   "source": [
    "Q2. Write code that opens a file and reads its content. If the file doesn’t exist, create it with some default text instead."
   ]
  },
  {
   "cell_type": "code",
   "execution_count": 3,
   "id": "d886a7d7",
   "metadata": {},
   "outputs": [
    {
     "data": {
      "text/plain": [
       "'Success is not final, failure is not fatal: \\nIt is the courage to continue that counts.\\n\\nâ€“ Winston Churchill'"
      ]
     },
     "execution_count": 3,
     "metadata": {},
     "output_type": "execute_result"
    }
   ],
   "source": [
    "def file_opener(file_name,default_text=\"This file has no content\"):\n",
    "    try:\n",
    "        with open(file_name,\"r\") as file:\n",
    "            content=file.read()\n",
    "    except FileNotFoundError:\n",
    "        with open(file_name,\"w\") as file:\n",
    "            file.write(default_text)\n",
    "            content=file.read()\n",
    "    return content\n",
    "\n",
    "file_opener(\"test.txt\")"
   ]
  },
  {
   "cell_type": "markdown",
   "id": "f377e249",
   "metadata": {},
   "source": [
    "# GUI (Tkinter)"
   ]
  },
  {
   "cell_type": "markdown",
   "id": "1b9456f5",
   "metadata": {},
   "source": [
    "4️⃣ Write a simple Tkinter GUI with:\n",
    "\n",
    "A Label saying “Enter your name:”\n",
    "\n",
    "An Entry box to take input\n",
    "\n",
    "A Button which, when clicked, shows the input name in a pop-up messagebox."
   ]
  },
  {
   "cell_type": "code",
   "execution_count": 4,
   "id": "c9e07250",
   "metadata": {},
   "outputs": [],
   "source": [
    "import tkinter as tk\n",
    "from tkinter import messagebox\n",
    "\n",
    "def ShowName():\n",
    "    name=entry_box.get()\n",
    "    messagebox.showinfo(\"Your Name\",f\"Hello,{name}!\")\n",
    "\n",
    "frame= tk.Tk()\n",
    "frame.title(\"What's Your Name?\")\n",
    "frame.geometry(\"400x400\")\n",
    "\n",
    "frame_label=tk.Label(frame,text=\"Enter Your Name\")\n",
    "frame_label.pack(pady=5)\n",
    "\n",
    "entry_box=tk.Entry(frame)\n",
    "entry_box.pack(pady=5)\n",
    "\n",
    "entry_button=tk.Button(frame,text=\"Entry\",command=ShowName)\n",
    "entry_button.pack(pady=6)\n",
    "\n",
    "frame.mainloop()"
   ]
  },
  {
   "cell_type": "markdown",
   "id": "ea37ad8f",
   "metadata": {},
   "source": [
    "5️⃣ How do you change the background color of a Tkinter Frame? Write an example."
   ]
  },
  {
   "cell_type": "markdown",
   "id": "0180a4b8",
   "metadata": {},
   "source": [
    "6️⃣ Suppose you want to close a Tkinter window after clicking a button. Write the button’s callback function to do this."
   ]
  },
  {
   "cell_type": "code",
   "execution_count": 5,
   "id": "25f4a8c6",
   "metadata": {},
   "outputs": [],
   "source": [
    "import tkinter as tk\n",
    "\n",
    "def Close_Window():\n",
    "    root.destroy()\n",
    "\n",
    "root=tk.Tk()\n",
    "root.title(\"Close Window Example\")\n",
    "root.geometry(\"400x400\")\n",
    "\n",
    "close_button=tk.Button(root,text=\"Close Window\",command=Close_Window)\n",
    "close_button.pack(pady=5)\n",
    "\n",
    "root.mainloop()"
   ]
  },
  {
   "cell_type": "markdown",
   "id": "2c4bf7d0",
   "metadata": {},
   "source": [
    "Q3. Make a simple Tkinter window with:\n",
    "\n",
    "A Label: “Enter two numbers:”\n",
    "\n",
    "Two Entry boxes\n",
    "\n",
    "A Button that, when clicked, adds the two numbers and shows the result in a Label."
   ]
  },
  {
   "cell_type": "code",
   "execution_count": 6,
   "id": "fd24d944",
   "metadata": {},
   "outputs": [],
   "source": [
    "import tkinter as tk\n",
    "def add():\n",
    "    try:\n",
    "        num1=float(labelbox1.get())\n",
    "        num2=float(labelbox2.get())\n",
    "        result=num1+num2\n",
    "        result_lbl.config(text=f\"Result: {result}\")\n",
    "    except ValueError:\n",
    "        result_lbl.config(text=\"Please enter valid numbers.\")\n",
    "\n",
    "frame=tk.Tk()\n",
    "frame.title(\"Calculator\")\n",
    "frame.geometry(\"400x400\")\n",
    "\n",
    "frame_label=tk.Label(frame,text=\"Enter two numbers\")\n",
    "frame_label.pack(pady=5)\n",
    "\n",
    "labelbox1=tk.Entry(frame)\n",
    "labelbox1.pack(pady=3)\n",
    "\n",
    "labelbox2=tk.Entry(frame)\n",
    "labelbox2.pack(pady=7)\n",
    "\n",
    "add_button=tk.Button(frame,text=\"+\",command=add)\n",
    "add_button.pack(pady=15)\n",
    "\n",
    "result_lbl=tk.Label(frame,text=\"Result\")\n",
    "result_lbl.pack(pady=20)\n",
    "\n",
    "frame.mainloop()"
   ]
  },
  {
   "cell_type": "markdown",
   "id": "be60b485",
   "metadata": {},
   "source": [
    "Q4. Make a Tkinter window with a Listbox showing 5 colors. When the user selects a color and clicks a button, the window’s background changes to that color."
   ]
  },
  {
   "cell_type": "code",
   "execution_count": 9,
   "id": "4d3c583d",
   "metadata": {},
   "outputs": [],
   "source": [
    "import tkinter as tk\n",
    "\n",
    "def change_bg_color():\n",
    "    selected = listbox.curselection()\n",
    "    if selected:\n",
    "        color = listbox.get(selected)\n",
    "        root.config(bg=color)\n",
    "\n",
    "root = tk.Tk()\n",
    "root.title(\"Color Selector\")\n",
    "root.geometry(\"300x200\")\n",
    "\n",
    "colors = ['red', 'green', 'blue', 'yellow', 'purple']\n",
    "\n",
    "listbox = tk.Listbox(root, height=5)\n",
    "for color in colors:\n",
    "    listbox.insert(tk.END, color)\n",
    "listbox.pack(pady=10)\n",
    "\n",
    "button = tk.Button(root, text=\"Change Background\", command=change_bg_color)\n",
    "button.pack()\n",
    "\n",
    "root.mainloop()"
   ]
  },
  {
   "cell_type": "markdown",
   "id": "1d54c899",
   "metadata": {},
   "source": [
    "# Decorator"
   ]
  },
  {
   "cell_type": "markdown",
   "id": "511887d1",
   "metadata": {},
   "source": [
    "7️⃣ Explain what a decorator is in Python. Give an example of a function-based decorator that prints the execution time of any function."
   ]
  },
  {
   "cell_type": "markdown",
   "id": "b080409d",
   "metadata": {},
   "source": [
    "8️⃣ How can you apply multiple decorators to a single function? Give a small example."
   ]
  },
  {
   "cell_type": "code",
   "execution_count": 7,
   "id": "ce5c0d44",
   "metadata": {},
   "outputs": [
    {
     "name": "stdout",
     "output_type": "stream",
     "text": [
      "Decorator 1\n",
      "Decorator 2\n",
      "Hello!\n"
     ]
    }
   ],
   "source": [
    "def decorator1(func):\n",
    "    def wrapper():\n",
    "        print(\"Decorator 1\")\n",
    "        func()\n",
    "    return wrapper\n",
    "\n",
    "def decorator2(func):\n",
    "    def wrapper():\n",
    "        print(\"Decorator 2\")\n",
    "        func()\n",
    "    return wrapper\n",
    "\n",
    "@decorator1\n",
    "@decorator2\n",
    "def greet():\n",
    "    print(\"Hello!\")\n",
    "\n",
    "greet()"
   ]
  },
  {
   "cell_type": "markdown",
   "id": "4b147dee",
   "metadata": {},
   "source": [
    "9️⃣ Write a decorator that checks if the argument given to a function is an integer. If not, raise a TypeError."
   ]
  },
  {
   "cell_type": "code",
   "execution_count": 8,
   "id": "2a1abfd9",
   "metadata": {},
   "outputs": [
    {
     "ename": "TypeError",
     "evalue": "Argument must be an integer, got float",
     "output_type": "error",
     "traceback": [
      "\u001b[31m---------------------------------------------------------------------------\u001b[39m",
      "\u001b[31mTypeError\u001b[39m                                 Traceback (most recent call last)",
      "\u001b[36mCell\u001b[39m\u001b[36m \u001b[39m\u001b[32mIn[8]\u001b[39m\u001b[32m, line 12\u001b[39m\n\u001b[32m      8\u001b[39m \u001b[38;5;129m@check_integer\u001b[39m\n\u001b[32m      9\u001b[39m \u001b[38;5;28;01mdef\u001b[39;00m\u001b[38;5;250m \u001b[39m\u001b[34mSquare\u001b[39m(num):\n\u001b[32m     10\u001b[39m     \u001b[38;5;28;01mreturn\u001b[39;00m num*num\n\u001b[32m---> \u001b[39m\u001b[32m12\u001b[39m \u001b[38;5;28mprint\u001b[39m(\u001b[43mSquare\u001b[49m\u001b[43m(\u001b[49m\u001b[32;43m3.25\u001b[39;49m\u001b[43m)\u001b[49m)\n",
      "\u001b[36mCell\u001b[39m\u001b[36m \u001b[39m\u001b[32mIn[8]\u001b[39m\u001b[32m, line 4\u001b[39m, in \u001b[36mcheck_integer.<locals>.wrapper\u001b[39m\u001b[34m(arg)\u001b[39m\n\u001b[32m      2\u001b[39m \u001b[38;5;28;01mdef\u001b[39;00m\u001b[38;5;250m \u001b[39m\u001b[34mwrapper\u001b[39m(arg):\n\u001b[32m      3\u001b[39m     \u001b[38;5;28;01mif\u001b[39;00m \u001b[38;5;129;01mnot\u001b[39;00m \u001b[38;5;28misinstance\u001b[39m(arg,\u001b[38;5;28mint\u001b[39m):\n\u001b[32m----> \u001b[39m\u001b[32m4\u001b[39m         \u001b[38;5;28;01mraise\u001b[39;00m \u001b[38;5;167;01mTypeError\u001b[39;00m(\u001b[33mf\u001b[39m\u001b[33m\"\u001b[39m\u001b[33mArgument must be an integer, got \u001b[39m\u001b[38;5;132;01m{\u001b[39;00m\u001b[38;5;28mtype\u001b[39m(arg).\u001b[34m__name__\u001b[39m\u001b[38;5;132;01m}\u001b[39;00m\u001b[33m\"\u001b[39m)\n\u001b[32m      5\u001b[39m     \u001b[38;5;28;01mreturn\u001b[39;00m func(arg)\n",
      "\u001b[31mTypeError\u001b[39m: Argument must be an integer, got float"
     ]
    }
   ],
   "source": [
    "def check_integer(func):\n",
    "    def wrapper(arg):\n",
    "        if not isinstance(arg,int):\n",
    "            raise TypeError(f\"Argument must be an integer, got {type(arg).__name__}\")\n",
    "        return func(arg)\n",
    "    return wrapper\n",
    "\n",
    "@check_integer\n",
    "def Square(num):\n",
    "    return num*num\n",
    "\n",
    "print(Square(3.25))"
   ]
  },
  {
   "cell_type": "markdown",
   "id": "dcf7c9fb",
   "metadata": {},
   "source": [
    "Q5. Write a decorator that logs before and after a function runs. Show its use with a simple function like multiply(a, b)."
   ]
  },
  {
   "cell_type": "code",
   "execution_count": null,
   "id": "0e90dfa4",
   "metadata": {},
   "outputs": [],
   "source": [
    "class EmptyListError(Exception):\n",
    "    def __init__(self,message):\n",
    "        super().__init__(message)\n",
    "\n",
    "class NonNumericError(Exception):\n",
    "    def __init__(self,message):\n",
    "        super().__init__(message)\n",
    "    \n",
    "class InvalidThresholdError(Exception):\n",
    "    def __init__(self,message):\n",
    "        super().__init__(message)\n",
    "\n",
    "class TemperatureOutOfRangeError(Exception):\n",
    "    def __init__(self,message):\n",
    "        super().__init__(message)\n",
    "\n",
    "def processSensorData(temperatures, threshold):\n",
    "    if not temperatures:\n",
    "        raise EmptyListError(\"Temperature list must not be empty.\")\n",
    "    \n",
    "    if not isinstance(threshold, int):\n",
    "        raise InvalidThresholdError(\"Threshold must be an integer.\")\n",
    "    \n",
    "    for temp in temperatures:\n",
    "        if not isinstance(temp, (int, float)):\n",
    "            raise NonNumericError(\"All temperatures must be numbers.\")\n",
    "        if temp < -100 or temp > 100:\n",
    "            raise TemperatureOutOfRangeError(\"Temperature out of allowed range (-100 to 100).\")\n",
    "    \n",
    "    result = [temp for temp in temperatures if temp > threshold]\n",
    "    return result"
   ]
  },
  {
   "cell_type": "code",
   "execution_count": null,
   "id": "c665e015",
   "metadata": {},
   "outputs": [
    {
     "name": "stdout",
     "output_type": "stream",
     "text": [
      "Time limit exceeded.\n"
     ]
    },
    {
     "name": "stdout",
     "output_type": "stream",
     "text": [
      "Done!\n"
     ]
    }
   ],
   "source": [
    "import time\n",
    "import threading\n",
    "\n",
    "class time_limit:\n",
    "    def __init__(self, seconds):\n",
    "        self.seconds = seconds\n",
    "\n",
    "    def __call__(self, func):\n",
    "        def wrapper(*args, **kwargs):\n",
    "            result = [None]\n",
    "\n",
    "            def run():\n",
    "                result[0] = func(*args, **kwargs)\n",
    "\n",
    "            thread = threading.Thread(target=run)\n",
    "            thread.start()\n",
    "            thread.join(self.seconds)\n",
    "\n",
    "            if thread.is_alive():\n",
    "                print(\"Time limit exceeded.\")\n",
    "                return None\n",
    "            else:\n",
    "                return result[0]\n",
    "        return wrapper\n",
    "\n",
    "@time_limit(2)\n",
    "def long_task():\n",
    "    time.sleep(3)\n",
    "    print(\"Done!\")\n",
    "\n",
    "long_task()"
   ]
  },
  {
   "cell_type": "code",
   "execution_count": 4,
   "id": "fc18d2ab",
   "metadata": {},
   "outputs": [
    {
     "name": "stdout",
     "output_type": "stream",
     "text": [
      "0\n",
      "2\n",
      "4\n",
      "6\n",
      "8\n"
     ]
    }
   ],
   "source": [
    "def EVE(n):\n",
    "    for i in range(n):\n",
    "        if i%2==0:\n",
    "            yield i\n",
    "\n",
    "eve=EVE(10)\n",
    "for num in eve:\n",
    "    print(num)"
   ]
  },
  {
   "cell_type": "markdown",
   "id": "fadeed90",
   "metadata": {},
   "source": [
    "# Pandas"
   ]
  },
  {
   "cell_type": "markdown",
   "id": "f484bd4a",
   "metadata": {},
   "source": [
    "🔟 Load a CSV file named students.csv with columns: Name, Age, Marks. Write Pandas code to:\n",
    "\n",
    "Show the first 5 rows.\n",
    "\n",
    "Filter students who scored more than 80 marks.\n",
    "\n",
    "Add a new column Grade where Marks > 80 = ‘A’, else ‘B’."
   ]
  },
  {
   "cell_type": "code",
   "execution_count": null,
   "id": "dfd42e52",
   "metadata": {},
   "outputs": [
    {
     "name": "stdout",
     "output_type": "stream",
     "text": [
      "The First 5 Row\n",
      "      Name  Age  Marks\n",
      "0    Alice   20     85\n",
      "1      Bob   21     78\n",
      "2  Charlie   19     92\n",
      "3    David   22     67\n",
      "4      Eva   20     88\n",
      "\n",
      "Those Who Get Over 80\n",
      "       Name  Age  Marks\n",
      "0     Alice   20     85\n",
      "2   Charlie   19     92\n",
      "4       Eva   20     88\n",
      "6     Grace   21     81\n",
      "7    Hannah   20     95\n",
      "9     Julia   19     89\n",
      "10     Akil   21     85\n",
      "12     John   20     92\n",
      "14      Ali   21     81\n",
      "16     Ravi   22     88\n",
      "18     Zara   20     95\n",
      "\n",
      "       Name  Age  Marks Grade\n",
      "0     Alice   20     85     A\n",
      "1       Bob   21     78     B\n",
      "2   Charlie   19     92     A\n",
      "3     David   22     67     B\n",
      "4       Eva   20     88     A\n",
      "5     Frank   23     75     B\n",
      "6     Grace   21     81     A\n",
      "7    Hannah   20     95     A\n",
      "8       Ian   22     60     B\n",
      "9     Julia   19     89     A\n",
      "10     Akil   21     85     A\n",
      "11     Sara   22     78     B\n",
      "12     John   20     92     A\n",
      "13     Lina   23     67     B\n",
      "14      Ali   21     81     A\n",
      "15     Tina   20     55     B\n",
      "16     Ravi   22     88     A\n",
      "17     Maya   21     74     B\n",
      "18     Zara   20     95     A\n",
      "19     Omar   23     60     B\n"
     ]
    }
   ],
   "source": [
    "import pandas as pd\n",
    "\n",
    "df=pd.read_csv(\"Book1.csv\")\n",
    "\n",
    "print(\"The First 5 Row\")\n",
    "print(df.head())\n",
    "print()\n",
    "\n",
    "print(\"Those Who Get Over 80\")\n",
    "high_score=df[df[\"Marks\"]>80]\n",
    "print(high_score)\n",
    "print()\n",
    "\n",
    "df['Grade'] = df['Marks'].apply(lambda x: 'A' if x > 80 else 'B')\n",
    "print(df)"
   ]
  },
  {
   "cell_type": "markdown",
   "id": "8da84e63",
   "metadata": {},
   "source": [
    "1️⃣1️⃣ Explain the difference between loc and iloc with examples."
   ]
  },
  {
   "cell_type": "code",
   "execution_count": null,
   "id": "8f2c5b67",
   "metadata": {},
   "outputs": [
    {
     "name": "stdout",
     "output_type": "stream",
     "text": [
      "Alice\n",
      "Alice\n"
     ]
    }
   ],
   "source": [
    "print(df.loc[0, 'Name'])\n",
    "print(df.iloc[0, 0])"
   ]
  },
  {
   "cell_type": "markdown",
   "id": "0475e44f",
   "metadata": {},
   "source": [
    "1️⃣2️⃣ What is the output of df.groupby('Department').mean() if df has columns Department and Salary? Explain how groupby works."
   ]
  },
  {
   "cell_type": "code",
   "execution_count": null,
   "id": "822d1838",
   "metadata": {},
   "outputs": [
    {
     "name": "stdout",
     "output_type": "stream",
     "text": [
      "             Salary\n",
      "Department         \n",
      "CS          55000.0\n",
      "Math        60000.0\n"
     ]
    }
   ],
   "source": [
    "data = {\n",
    "    'Department': ['CS', 'CS', 'Math', 'Math'],\n",
    "    'Salary': [50000, 60000, 55000, 65000]\n",
    "}\n",
    "df = pd.DataFrame(data)\n",
    "print(df.groupby('Department').mean())"
   ]
  },
  {
   "cell_type": "markdown",
   "id": "73f222ea",
   "metadata": {},
   "source": [
    "# Matplotlib"
   ]
  },
  {
   "cell_type": "markdown",
   "id": "d93d0dee",
   "metadata": {},
   "source": [
    "1️⃣3️⃣ Write Python code to plot a simple line chart of x = [1, 2, 3, 4] and y = [2, 4, 6, 8]. Add title, xlabel, and ylabel."
   ]
  },
  {
   "cell_type": "code",
   "execution_count": null,
   "id": "c78d9c96",
   "metadata": {},
   "outputs": [
    {
     "data": {
      "image/png": "[encoded data removed]",
      "text/plain": [
       "<Figure size 640x480 with 1 Axes>"
      ]
     },
     "metadata": {},
     "output_type": "display_data"
    }
   ],
   "source": [
    "import matplotlib.pyplot as plt\n",
    "\n",
    "x = [1, 2, 3, 4]\n",
    "y = [2, 4, 6, 8]\n",
    "\n",
    "plt.plot(x, y)\n",
    "plt.title(\"Simple Line Chart\")\n",
    "plt.xlabel(\"X-axis\")\n",
    "plt.ylabel(\"Y-axis\")\n",
    "plt.show()"
   ]
  },
  {
   "cell_type": "markdown",
   "id": "55bb7415",
   "metadata": {},
   "source": [
    "\n",
    "1️⃣4️⃣ How do you create a bar chart with custom colors and labels? Give an example."
   ]
  },
  {
   "cell_type": "code",
   "execution_count": null,
   "id": "432e5f34",
   "metadata": {},
   "outputs": [
    {
     "data": {
      "image/png": "[encoded data removed]",
      "text/plain": [
       "<Figure size 640x480 with 1 Axes>"
      ]
     },
     "metadata": {},
     "output_type": "display_data"
    }
   ],
   "source": [
    "import matplotlib.pyplot as plt\n",
    "\n",
    "categories = ['A', 'B', 'C']\n",
    "values = [10, 20, 15]\n",
    "\n",
    "plt.bar(categories, values, color=['red', 'green', 'blue'])\n",
    "plt.title(\"Bar Chart\")\n",
    "plt.xlabel(\"Category\")\n",
    "plt.ylabel(\"Value\")\n",
    "plt.show()"
   ]
  },
  {
   "cell_type": "markdown",
   "id": "45fcce0e",
   "metadata": {},
   "source": [
    "\n",
    "1️⃣5️⃣ What does plt.subplot() do? Write code to plot 2 plots side by side using subplot."
   ]
  },
  {
   "cell_type": "code",
   "execution_count": null,
   "id": "6532543a",
   "metadata": {},
   "outputs": [
    {
     "data": {
      "image/png": "[encoded data removed]",
      "text/plain": [
       "<Figure size 640x480 with 2 Axes>"
      ]
     },
     "metadata": {},
     "output_type": "display_data"
    }
   ],
   "source": [
    "import matplotlib.pyplot as plt\n",
    "\n",
    "x = [1, 2, 3, 4]\n",
    "y1 = [1, 4, 9, 16]\n",
    "y2 = [2, 3, 4, 5]\n",
    "\n",
    "plt.subplot(1, 2, 1)\n",
    "plt.plot(x, y1)\n",
    "plt.title(\"Plot 1\")\n",
    "\n",
    "plt.subplot(1, 2, 2)\n",
    "plt.title(\"Plot 2\")\n",
    "\n",
    "plt.show()"
   ]
  },
  {
   "cell_type": "markdown",
   "id": "04882c4b",
   "metadata": {},
   "source": [
    "# Generator"
   ]
  },
  {
   "cell_type": "markdown",
   "id": "2011db07",
   "metadata": {},
   "source": [
    "1️⃣6️⃣ Explain what a generator is. How is it different from a normal function?"
   ]
  },
  {
   "cell_type": "code",
   "execution_count": null,
   "id": "c2a40c2f",
   "metadata": {},
   "outputs": [
    {
     "name": "stdout",
     "output_type": "stream",
     "text": [
      "1\n",
      "2\n"
     ]
    }
   ],
   "source": [
    "def simple_gen():\n",
    "    yield 1\n",
    "    yield 2\n",
    "    yield 3\n",
    "\n",
    "g = simple_gen()\n",
    "print(next(g))\n",
    "print(next(g))"
   ]
  },
  {
   "cell_type": "markdown",
   "id": "f25b8f5f",
   "metadata": {},
   "source": [
    "\n",
    "1️⃣7️⃣ Write a generator function to yield all even numbers from 1 to N."
   ]
  },
  {
   "cell_type": "code",
   "execution_count": null,
   "id": "cdcd0b55",
   "metadata": {},
   "outputs": [
    {
     "name": "stdout",
     "output_type": "stream",
     "text": [
      "2\n",
      "4\n",
      "6\n",
      "8\n",
      "10\n"
     ]
    }
   ],
   "source": [
    "def even_numbers(n):\n",
    "    for i in range(1, n+1):\n",
    "        if i % 2 == 0:\n",
    "            yield i\n",
    "\n",
    "for num in even_numbers(10):\n",
    "    print(num)"
   ]
  },
  {
   "cell_type": "markdown",
   "id": "10336d78",
   "metadata": {},
   "source": [
    "\n",
    "1️⃣8️⃣ What is the benefit of using a generator when handling large data? Give an example scenario related to data science."
   ]
  },
  {
   "cell_type": "code",
   "execution_count": null,
   "id": "d1853e96",
   "metadata": {},
   "outputs": [
    {
     "ename": "FileNotFoundError",
     "evalue": "[Errno 2] No such file or directory: 'huge_file.txt'",
     "output_type": "error",
     "traceback": [
      "\u001b[31m---------------------------------------------------------------------------\u001b[39m",
      "\u001b[31mFileNotFoundError\u001b[39m                         Traceback (most recent call last)",
      "\u001b[36mCell\u001b[39m\u001b[36m \u001b[39m\u001b[32mIn[14]\u001b[39m\u001b[32m, line 6\u001b[39m\n\u001b[32m      3\u001b[39m         \u001b[38;5;28;01mfor\u001b[39;00m line \u001b[38;5;129;01min\u001b[39;00m f:\n\u001b[32m      4\u001b[39m             \u001b[38;5;28;01myield\u001b[39;00m line\n\u001b[32m----> \u001b[39m\u001b[32m6\u001b[39m \u001b[38;5;28;43;01mfor\u001b[39;49;00m\u001b[43m \u001b[49m\u001b[43mline\u001b[49m\u001b[43m \u001b[49m\u001b[38;5;129;43;01min\u001b[39;49;00m\u001b[43m \u001b[49m\u001b[43mread_large_file\u001b[49m\u001b[43m(\u001b[49m\u001b[33;43m'\u001b[39;49m\u001b[33;43mhuge_file.txt\u001b[39;49m\u001b[33;43m'\u001b[39;49m\u001b[43m)\u001b[49m\u001b[43m:\u001b[49m\n\u001b[32m      7\u001b[39m \u001b[43m    \u001b[49m\u001b[38;5;28;43mprint\u001b[39;49m\u001b[43m(\u001b[49m\u001b[43mline\u001b[49m\u001b[43m.\u001b[49m\u001b[43mstrip\u001b[49m\u001b[43m(\u001b[49m\u001b[43m)\u001b[49m\u001b[43m)\u001b[49m\n",
      "\u001b[36mCell\u001b[39m\u001b[36m \u001b[39m\u001b[32mIn[14]\u001b[39m\u001b[32m, line 2\u001b[39m, in \u001b[36mread_large_file\u001b[39m\u001b[34m(file_name)\u001b[39m\n\u001b[32m      1\u001b[39m \u001b[38;5;28;01mdef\u001b[39;00m\u001b[38;5;250m \u001b[39m\u001b[34mread_large_file\u001b[39m(file_name):\n\u001b[32m----> \u001b[39m\u001b[32m2\u001b[39m     \u001b[38;5;28;01mwith\u001b[39;00m \u001b[38;5;28;43mopen\u001b[39;49m\u001b[43m(\u001b[49m\u001b[43mfile_name\u001b[49m\u001b[43m)\u001b[49m \u001b[38;5;28;01mas\u001b[39;00m f:\n\u001b[32m      3\u001b[39m         \u001b[38;5;28;01mfor\u001b[39;00m line \u001b[38;5;129;01min\u001b[39;00m f:\n\u001b[32m      4\u001b[39m             \u001b[38;5;28;01myield\u001b[39;00m line\n",
      "\u001b[36mFile \u001b[39m\u001b[32m~\\AppData\\Roaming\\Python\\Python313\\site-packages\\IPython\\core\\interactiveshell.py:326\u001b[39m, in \u001b[36m_modified_open\u001b[39m\u001b[34m(file, *args, **kwargs)\u001b[39m\n\u001b[32m    319\u001b[39m \u001b[38;5;28;01mif\u001b[39;00m file \u001b[38;5;129;01min\u001b[39;00m {\u001b[32m0\u001b[39m, \u001b[32m1\u001b[39m, \u001b[32m2\u001b[39m}:\n\u001b[32m    320\u001b[39m     \u001b[38;5;28;01mraise\u001b[39;00m \u001b[38;5;167;01mValueError\u001b[39;00m(\n\u001b[32m    321\u001b[39m         \u001b[33mf\u001b[39m\u001b[33m\"\u001b[39m\u001b[33mIPython won\u001b[39m\u001b[33m'\u001b[39m\u001b[33mt let you open fd=\u001b[39m\u001b[38;5;132;01m{\u001b[39;00mfile\u001b[38;5;132;01m}\u001b[39;00m\u001b[33m by default \u001b[39m\u001b[33m\"\u001b[39m\n\u001b[32m    322\u001b[39m         \u001b[33m\"\u001b[39m\u001b[33mas it is likely to crash IPython. If you know what you are doing, \u001b[39m\u001b[33m\"\u001b[39m\n\u001b[32m    323\u001b[39m         \u001b[33m\"\u001b[39m\u001b[33myou can use builtins\u001b[39m\u001b[33m'\u001b[39m\u001b[33m open.\u001b[39m\u001b[33m\"\u001b[39m\n\u001b[32m    324\u001b[39m     )\n\u001b[32m--> \u001b[39m\u001b[32m326\u001b[39m \u001b[38;5;28;01mreturn\u001b[39;00m \u001b[43mio_open\u001b[49m\u001b[43m(\u001b[49m\u001b[43mfile\u001b[49m\u001b[43m,\u001b[49m\u001b[43m \u001b[49m\u001b[43m*\u001b[49m\u001b[43margs\u001b[49m\u001b[43m,\u001b[49m\u001b[43m \u001b[49m\u001b[43m*\u001b[49m\u001b[43m*\u001b[49m\u001b[43mkwargs\u001b[49m\u001b[43m)\u001b[49m\n",
      "\u001b[31mFileNotFoundError\u001b[39m: [Errno 2] No such file or directory: 'huge_file.txt'"
     ]
    }
   ],
   "source": [
    "def read_large_file(file_name):\n",
    "    with open(file_name) as f:\n",
    "        for line in f:\n",
    "            yield line\n",
    "\n",
    "for line in read_large_file('huge_file.txt'):\n",
    "    print(line.strip())"
   ]
  },
  {
   "cell_type": "markdown",
   "id": "4b7d16ab",
   "metadata": {},
   "source": [
    "# Bonus Mixed Question"
   ]
  },
  {
   "cell_type": "markdown",
   "id": "934f1f6e",
   "metadata": {},
   "source": [
    "1️⃣9️⃣ Combine exception handling + file reading + generator:\n",
    "\n",
    "Write a function that reads a large text file line by line using a generator, and handle the FileNotFoundError if the file does not exist."
   ]
  },
  {
   "cell_type": "code",
   "execution_count": null,
   "id": "3b3b41be",
   "metadata": {},
   "outputs": [],
   "source": [
    "def read_file_lines(filename):\n",
    "    try:\n",
    "        with open(filename) as f:\n",
    "            for line in f:\n",
    "                yield line.strip()\n",
    "    except FileNotFoundError:\n",
    "        print(\"Error: File not found.\")\n",
    "\n",
    "for line in read_file_lines('test.txt'):\n",
    "    print(line)"
   ]
  }
 ],
 "metadata": {
  "kernelspec": {
   "display_name": "Python 3",
   "language": "python",
   "name": "python3"
  },
  "language_info": {
   "codemirror_mode": {
    "name": "ipython",
    "version": 3
   },
   "file_extension": ".py",
   "mimetype": "text/x-python",
   "name": "python",
   "nbconvert_exporter": "python",
   "pygments_lexer": "ipython3",
   "version": "3.13.5"
  }
 },
 "nbformat": 4,
 "nbformat_minor": 5
}

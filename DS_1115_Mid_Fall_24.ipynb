{
 "cells": [
  {
   "cell_type": "markdown",
   "id": "a4ecc012",
   "metadata": {},
   "source": [
    "# Problem 1"
   ]
  },
  {
   "cell_type": "code",
   "execution_count": null,
   "id": "4c6c43f4",
   "metadata": {},
   "outputs": [
    {
     "name": "stdout",
     "output_type": "stream",
     "text": [
      "Team A\n",
      "Bob\n"
     ]
    }
   ],
   "source": [
    "class Player:\n",
    "    def __init__(self,name:str,run:int,out:bool):\n",
    "        self.name=name\n",
    "        self.run=run\n",
    "        self.out=out\n",
    "\n",
    "    def update_run(self,run):\n",
    "        self.run += run\n",
    "\n",
    "class Team:\n",
    "    def __init__(self,name:str):\n",
    "        self.name=name\n",
    "        self.players=[]\n",
    "\n",
    "    def add_player(self,player):\n",
    "        self.players.append(player)\n",
    "\n",
    "    def remove_player(self,player):\n",
    "        self.players.remove(player)\n",
    "\n",
    "    def get_total_runs(self):\n",
    "        total_run=0\n",
    "        \n",
    "        for player in self.players:\n",
    "            total_run += player.run\n",
    "        return total_run\n",
    "\n",
    "    def get_height_scorer(self):\n",
    "        \n",
    "        if len(self.players)==0:\n",
    "            print(\"No Players run is available\")\n",
    "            return\n",
    "        \n",
    "        else:\n",
    "            max_run=self.players[0]\n",
    "            max_index=0\n",
    "            for i in range(1,len(self.players)):\n",
    "                if self.players[i].run>max_run.run:\n",
    "                    max_run=self.players[i]\n",
    "                    max_index=i\n",
    "            return self.players[max_index]\n",
    "\n",
    "def get_results(team1,team2):\n",
    "    team1_runs=team1.get_total_runs()\n",
    "    team2_runs=team2.get_total_runs()\n",
    "    \n",
    "    if team1_runs>team2_runs:\n",
    "        team_name=team1\n",
    "        player=team1.get_height_scorer()\n",
    "        player_name=player.name\n",
    "        print(team1.name)\n",
    "        print(player.name)\n",
    "    \n",
    "    elif team2_runs>team1_runs:\n",
    "        team_name=team2\n",
    "        player=team2.get_height_scorer()\n",
    "        player_name=player.name\n",
    "        print(team2.name)\n",
    "        print(player.name)\n",
    "\n",
    "    else:\n",
    "        print(\"Match Draw\")\n",
    "\n",
    "# Create players\n",
    "p1 = Player(\"Alice\", 30, False)\n",
    "p2 = Player(\"Bob\", 45, True)\n",
    "p3 = Player(\"Charlie\", 15, False)\n",
    "\n",
    "p4 = Player(\"David\", 40, True)\n",
    "p5 = Player(\"Eve\", 35, False)\n",
    "\n",
    "# Create teams\n",
    "team1 = Team(\"Team A\")\n",
    "team2 = Team(\"Team B\")\n",
    "\n",
    "# Add players\n",
    "team1.add_player(p1)\n",
    "team1.add_player(p2)\n",
    "team1.add_player(p3)\n",
    "\n",
    "team2.add_player(p4)\n",
    "team2.add_player(p5)\n",
    "\n",
    "# Get match result\n",
    "get_results(team1, team2)"
   ]
  },
  {
   "cell_type": "markdown",
   "id": "d1b8846c",
   "metadata": {},
   "source": [
    "# Problem 2"
   ]
  },
  {
   "cell_type": "code",
   "execution_count": 2,
   "id": "540740c3",
   "metadata": {},
   "outputs": [
    {
     "name": "stdout",
     "output_type": "stream",
     "text": [
      "4\n",
      "19/11/2024\n",
      "False\n"
     ]
    }
   ],
   "source": [
    "class Date:\n",
    "    days_in_month = [31, 28, 31, 30, 31, 30, 31, 31, 30, 31, 30, 31]\n",
    "\n",
    "    def __init__(self, day, month, year):\n",
    "        self.day = day\n",
    "        self.month = month\n",
    "        self.year = year\n",
    "\n",
    "    def __add__(self, extra_days):\n",
    "        day = self.day + extra_days\n",
    "        month = self.month\n",
    "        year = self.year\n",
    "\n",
    "        while day > Date.days_in_month[month - 1]:\n",
    "            day -= Date.days_in_month[month - 1]\n",
    "            month += 1\n",
    "\n",
    "            if month > 12:\n",
    "                month = 1\n",
    "                year += 1\n",
    "\n",
    "        return Date(day, month, year)\n",
    "\n",
    "    def __sub__(self, other):\n",
    "        if self.year != other.year:\n",
    "            raise ValueError(\"Dates must be in the same year.\")\n",
    "\n",
    "        if self.month == other.month:\n",
    "            return abs(self.day - other.day)\n",
    "        else:\n",
    "            if (self.month, self.day) < (other.month, other.day):\n",
    "                self, other = other, self\n",
    "\n",
    "            total_days = 0\n",
    "            total_days += Date.days_in_month[other.month - 1] - other.day\n",
    "\n",
    "            for m in range(other.month, self.month - 1):\n",
    "                total_days += Date.days_in_month[m]\n",
    "            total_days += self.day\n",
    "\n",
    "            return total_days\n",
    "\n",
    "    def __eq__(self, other):\n",
    "        return self.day == other.day and self.month == other.month and self.year == other.year\n",
    "\n",
    "    def __str__(self):\n",
    "        return f\"{self.day}/{self.month}/{self.year}\"\n",
    "\n",
    "d1 = Date(9, 11, 2024)\n",
    "d2 = Date(5, 11, 2024)\n",
    "\n",
    "print(d1 - d2)\n",
    "print(d1 + 10)\n",
    "print(d1 == d2)\n"
   ]
  },
  {
   "cell_type": "markdown",
   "id": "bb878378",
   "metadata": {},
   "source": [
    "# Problem 3"
   ]
  },
  {
   "cell_type": "code",
   "execution_count": 1,
   "id": "5076a21e",
   "metadata": {},
   "outputs": [
    {
     "name": "stdout",
     "output_type": "stream",
     "text": [
      "Living Room Light used 2.5 kWh\n",
      "Front Door Cam used 2.25 kWh\n"
     ]
    }
   ],
   "source": [
    "from abc import ABC, abstractmethod\n",
    "\n",
    "class SmartDevice:\n",
    "    def __init__(self,name,device_id,status):\n",
    "        self.name=name\n",
    "        self.devices_id=device_id\n",
    "        self.status=status\n",
    "\n",
    "    @abstractmethod\n",
    "    def calculate_energy_consumption(self,hours):\n",
    "        pass\n",
    "\n",
    "    @abstractmethod\n",
    "    def get_device_name(self):\n",
    "        pass\n",
    "\n",
    "class SmartLight(SmartDevice):\n",
    "    def __init__(self,name,devie_id,status,brightness_level):\n",
    "        super().__init__(name, devie_id, status)\n",
    "        self.brightness_level=brightness_level\n",
    "\n",
    "    def calculate_energy_consumption(self, hours):\n",
    "        return hours*0.5\n",
    "    \n",
    "    def get_device_name(self):\n",
    "        return self.name\n",
    "    \n",
    "class SmartSecurityCamera(SmartDevice):\n",
    "    def __init__(self,name,device_id,status,resolution):\n",
    "        super().__init__(name, device_id, status)\n",
    "        self.resolution=resolution\n",
    "\n",
    "    def calculate_energy_consumption(self, hours):\n",
    "        return hours*0.75\n",
    "    \n",
    "    def get_device_name(self):\n",
    "        return self.name\n",
    "    \n",
    "light = SmartLight(\"Living Room Light\", \"SL123\", \"on\", brightness_level=70)\n",
    "camera = SmartSecurityCamera(\"Front Door Cam\", \"SC456\", \"off\", resolution=\"1080p\")\n",
    "\n",
    "print(f\"{light.get_device_name()} used {light.calculate_energy_consumption(5)} kWh\")\n",
    "print(f\"{camera.get_device_name()} used {camera.calculate_energy_consumption(3)} kWh\")"
   ]
  },
  {
   "cell_type": "markdown",
   "id": "96395856",
   "metadata": {},
   "source": [
    "# Get Output"
   ]
  },
  {
   "cell_type": "code",
   "execution_count": 1,
   "id": "0f140d23",
   "metadata": {},
   "outputs": [
    {
     "name": "stdout",
     "output_type": "stream",
     "text": [
      "(1,16, 81) (1,16, 81) (1,4, 9)\n"
     ]
    }
   ],
   "source": [
    "class Point3D:\n",
    "    def __init__(self, x, y, z):\n",
    "        self.x=x\n",
    "        self.y=y\n",
    "        self.z=z\n",
    "    \n",
    "    def copy(self):\n",
    "        return Point3D(self.x, self.y, self.z)\n",
    "    \n",
    "    def __str__(self):\n",
    "        return f\"({self.x},{self.y}, {self.z})\"\n",
    "    \n",
    "    def scale(self, n):\n",
    "        self.x *= self.x\n",
    "        self.y *= self.y\n",
    "        self.z *= self.z\n",
    "\n",
    "p1 = Point3D(1, 2, 3)\n",
    "p2 = p1\n",
    "p3 = p2.copy()\n",
    "p1.scale(2)\n",
    "p2.scale(2)\n",
    "p3.scale(2)\n",
    "print(p1, p2, p3)"
   ]
  },
  {
   "cell_type": "markdown",
   "id": "da2ccbd3",
   "metadata": {},
   "source": [
    "# Get Output"
   ]
  },
  {
   "cell_type": "code",
   "execution_count": 4,
   "id": "d0131d9d",
   "metadata": {},
   "outputs": [
    {
     "ename": "TypeError",
     "evalue": "Can't instantiate abstract class B without an implementation for abstract method 'fx'",
     "output_type": "error",
     "traceback": [
      "\u001b[1;31m---------------------------------------------------------------------------\u001b[0m",
      "\u001b[1;31mTypeError\u001b[0m                                 Traceback (most recent call last)",
      "Cell \u001b[1;32mIn[4], line 21\u001b[0m\n\u001b[0;32m     18\u001b[0m     \u001b[38;5;28;01mdef\u001b[39;00m \u001b[38;5;21mfz\u001b[39m(\u001b[38;5;28mself\u001b[39m, z):\n\u001b[0;32m     19\u001b[0m         \u001b[38;5;28mself\u001b[39m\u001b[38;5;241m.\u001b[39mz \u001b[38;5;241m=\u001b[39m z\n\u001b[1;32m---> 21\u001b[0m b \u001b[38;5;241m=\u001b[39m \u001b[43mB\u001b[49m\u001b[43m(\u001b[49m\u001b[38;5;241;43m1\u001b[39;49m\u001b[43m,\u001b[49m\u001b[43m \u001b[49m\u001b[38;5;241;43m2\u001b[39;49m\u001b[43m,\u001b[49m\u001b[43m \u001b[49m\u001b[38;5;241;43m3\u001b[39;49m\u001b[43m)\u001b[49m\n",
      "\u001b[1;31mTypeError\u001b[0m: Can't instantiate abstract class B without an implementation for abstract method 'fx'"
     ]
    }
   ],
   "source": [
    "from abc import ABC, abstractmethod\n",
    "\n",
    "class A(ABC):\n",
    "    def __init__(self, x, y):\n",
    "        self.x=x\n",
    "        self.y=y\n",
    "    \n",
    "    @abstractmethod\n",
    "    def fx(self, x):\n",
    "        pass\n",
    "\n",
    "class B(A):\n",
    "    def __init__(self, x, y, z):\n",
    "        super().__init__(x, y)\n",
    "        self.z = z\n",
    "    def fy(self, y):\n",
    "        self.y = y\n",
    "    def fz(self, z):\n",
    "        self.z = z\n",
    "\n",
    "b = B(1, 2, 3)"
   ]
  }
 ],
 "metadata": {
  "kernelspec": {
   "display_name": "base",
   "language": "python",
   "name": "python3"
  },
  "language_info": {
   "codemirror_mode": {
    "name": "ipython",
    "version": 3
   },
   "file_extension": ".py",
   "mimetype": "text/x-python",
   "name": "python",
   "nbconvert_exporter": "python",
   "pygments_lexer": "ipython3",
   "version": "3.12.4"
  }
 },
 "nbformat": 4,
 "nbformat_minor": 5
}

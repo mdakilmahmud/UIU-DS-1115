{
 "cells": [
  {
   "cell_type": "markdown",
   "id": "78bbc586",
   "metadata": {},
   "source": [
    "# Problem 1"
   ]
  },
  {
   "cell_type": "markdown",
   "id": "79cf7dd0",
   "metadata": {},
   "source": [
    "a"
   ]
  },
  {
   "cell_type": "code",
   "execution_count": 2,
   "id": "6af4b361",
   "metadata": {},
   "outputs": [
    {
     "name": "stdout",
     "output_type": "stream",
     "text": [
      "\n",
      "Transaction history for Tobey (ID: 1000):\n",
      "24/6/2025 - Deposit: 4000\n",
      "25/6/2025 - Withdraw: 1000\n"
     ]
    }
   ],
   "source": [
    "class Account:\n",
    "    Unique_ID = 1000\n",
    "    \n",
    "    def __init__(self, username, balance=500):\n",
    "        self.username = username\n",
    "        self.balance = balance\n",
    "        self.id = Account.Unique_ID\n",
    "        Account.Unique_ID += 1\n",
    "        self.transactions = []\n",
    "\n",
    "    def deposit(self, amount, date, transaction_type):\n",
    "        self.balance += amount\n",
    "        self.transactions.append({\n",
    "            \"amount\": amount,\n",
    "            \"date\": date,\n",
    "            \"type\": transaction_type})\n",
    "\n",
    "    def withdraw(self, amount, date, transaction_type):\n",
    "        if self.balance < amount:\n",
    "            print(\"Withdraw amount cannot be higher than balance\")\n",
    "        else:\n",
    "            self.balance -= amount\n",
    "            self.transactions.append({\n",
    "                \"amount\": amount,\n",
    "                \"date\": date,\n",
    "                \"type\": transaction_type})\n",
    "\n",
    "    def show_transactions(self):\n",
    "        print(f\"\\nTransaction history for {self.username} (ID: {self.id}):\")\n",
    "        for txn in self.transactions:\n",
    "            print(f\"{txn['date']} - {txn['type'].capitalize()}: {txn['amount']}\")\n",
    "\n",
    "x = Account(\"Tobey\")\n",
    "x.deposit(4000, \"24/6/2025\", \"deposit\")\n",
    "x.withdraw(1000, \"25/6/2025\", \"withdraw\")\n",
    "x.show_transactions()"
   ]
  },
  {
   "cell_type": "markdown",
   "id": "f57727c7",
   "metadata": {},
   "source": [
    "b (Get Output)"
   ]
  },
  {
   "cell_type": "code",
   "execution_count": 1,
   "id": "3d187ad2",
   "metadata": {},
   "outputs": [
    {
     "ename": "NameError",
     "evalue": "name 'welcomeUser' is not defined",
     "output_type": "error",
     "traceback": [
      "\u001b[1;31m---------------------------------------------------------------------------\u001b[0m",
      "\u001b[1;31mNameError\u001b[0m                                 Traceback (most recent call last)",
      "Cell \u001b[1;32mIn[1], line 29\u001b[0m\n\u001b[0;32m     26\u001b[0m         \u001b[38;5;28mprint\u001b[39m(\u001b[38;5;124m\"\u001b[39m\u001b[38;5;124mWelcome to Uthao\u001b[39m\u001b[38;5;124m\"\u001b[39m)\n\u001b[0;32m     27\u001b[0m         \u001b[38;5;28mprint\u001b[39m(\u001b[38;5;124m\"\u001b[39m\u001b[38;5;124mHere is your fare breakdown\u001b[39m\u001b[38;5;124m\"\u001b[39m)\n\u001b[1;32m---> 29\u001b[0m variable \u001b[38;5;241m=\u001b[39m \u001b[43mwelcomeUser\u001b[49m\n\u001b[0;32m     30\u001b[0m car1 \u001b[38;5;241m=\u001b[39m Car(\u001b[38;5;241m40\u001b[39m, \u001b[38;5;241m15\u001b[39m)\n\u001b[0;32m     31\u001b[0m car1_copy \u001b[38;5;241m=\u001b[39m car1\n",
      "\u001b[1;31mNameError\u001b[0m: name 'welcomeUser' is not defined"
     ]
    }
   ],
   "source": [
    "from abc import ABC, abstractmethod\n",
    "import copy\n",
    "\n",
    "class Ride(ABC):\n",
    "    def __init__(self, base_fare, per_km_fare):\n",
    "        self.base_fare = base_fare\n",
    "        self.per_km_fare = per_km_fare\n",
    "    \n",
    "    @abstractmethod\n",
    "    def calculateFare(self, distance, greeting):\n",
    "        greeting()\n",
    "        return self.base_fare + self.per_km_fare * distance\n",
    "\n",
    "class Car(Ride):\n",
    "    def __init__(self,base_fare, per_km_fare):\n",
    "        super().__init__(base_fare, per_km_fare)\n",
    "    \n",
    "    def calculateFare(self, distance, greeting):\n",
    "        total_fare = super().calculateFare(distance, greeting)\n",
    "        if(distance > 10):\n",
    "            return total_fare * 0.9\n",
    "        else:\n",
    "            return total_fare\n",
    "    \n",
    "    def welcomeUser(self):\n",
    "        print(\"Welcome to Uthao\")\n",
    "        print(\"Here is your fare breakdown\")\n",
    "\n",
    "variable = welcomeUser\n",
    "car1 = Car(40, 15)\n",
    "car1_copy = car1\n",
    "car1_copy.base_fare = 45\n",
    "\n",
    "car2 = Car(50, 20)\n",
    "car2_copy = copy.deepcopy(car2)\n",
    "car2_copy.base_fare = 55\n",
    "\n",
    "print(car1_copy.calculateFare(14 , variable))\n",
    "print(car2_copy.calculateFare(14 , variable))"
   ]
  },
  {
   "cell_type": "markdown",
   "id": "52e83166",
   "metadata": {},
   "source": [
    "# Problem 2"
   ]
  },
  {
   "cell_type": "code",
   "execution_count": 1,
   "id": "4551dfb8",
   "metadata": {},
   "outputs": [
    {
     "name": "stdout",
     "output_type": "stream",
     "text": [
      "akil\n",
      "10000\n",
      "300\n"
     ]
    }
   ],
   "source": [
    "# a\n",
    "class User:\n",
    "    def __init__(self, username, password, email):\n",
    "        self.username = username\n",
    "        self.password = password\n",
    "        self.email = email\n",
    "\n",
    "    def change_password(self, new_password):\n",
    "        if self.password != new_password:\n",
    "            self.password = new_password\n",
    "            print(\"Password updated successfully.\")\n",
    "        else:\n",
    "            print(\"New password cannot be the same as the old password.\")\n",
    "\n",
    "# b\n",
    "class Customer(User):\n",
    "    def __init__(self, username, password, email, account_balance=0):\n",
    "        super().__init__(username, password, email)\n",
    "        self.account_balance = account_balance\n",
    "        self.transaction_history = []\n",
    "\n",
    "    def check_balance(self):\n",
    "        return self.account_balance\n",
    "\n",
    "class Employee(User):\n",
    "    def __init__(self, username, password, email, employee_id, department):\n",
    "        super().__init__(username, password, email)\n",
    "        self.employee_id = employee_id\n",
    "        self.department = department\n",
    "\n",
    "    def generate_report(self):\n",
    "        print(\"Report generated\")\n",
    "\n",
    "# c\n",
    "class VIPStatus:\n",
    "    def __init__(self, loyalty_points=0):\n",
    "        self.loyalty_points = loyalty_points\n",
    "\n",
    "class VIPCustomer(Customer, VIPStatus):\n",
    "    def __init__(self, username, password, email, account_balance=0, loyalty_points=0):\n",
    "        Customer.__init__(self, username, password, email, account_balance)\n",
    "        VIPStatus.__init__(self, loyalty_points)\n",
    "\n",
    "vip = VIPCustomer(\"akil\", \"1234\", \"akil@example.com\", 10000, 300)\n",
    "print(vip.username)\n",
    "print(vip.check_balance())\n",
    "print(vip.loyalty_points)"
   ]
  }
 ],
 "metadata": {
  "kernelspec": {
   "display_name": "base",
   "language": "python",
   "name": "python3"
  },
  "language_info": {
   "codemirror_mode": {
    "name": "ipython",
    "version": 3
   },
   "file_extension": ".py",
   "mimetype": "text/x-python",
   "name": "python",
   "nbconvert_exporter": "python",
   "pygments_lexer": "ipython3",
   "version": "3.12.4"
  }
 },
 "nbformat": 4,
 "nbformat_minor": 5
}

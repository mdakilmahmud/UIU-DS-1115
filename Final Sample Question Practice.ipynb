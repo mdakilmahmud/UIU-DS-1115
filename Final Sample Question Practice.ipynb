{
 "cells": [
  {
   "cell_type": "markdown",
   "id": "7c2e7a65",
   "metadata": {},
   "source": [
    "1. (a)\n",
    "You are working on a smart thermostat system for your house. Write a Python class named Thermostat that stores the current temperature.\n",
    "\n",
    "Write a method set_temperature that sets a new temperature but raises a custom exception TemperatureOutOfRangeError if the temperature is not between 10°C and 35°C.\n",
    "\n",
    "Write test code to show this exception being raised for different inputs."
   ]
  },
  {
   "cell_type": "code",
   "execution_count": null,
   "id": "79392ce1",
   "metadata": {},
   "outputs": [],
   "source": [
    "# Custom Exception\n",
    "class TemperatureOutOfRangeError(Exception):\n",
    "    pass\n",
    "\n",
    "# Thermostat class\n",
    "class Thermostat:\n",
    "    def __init__(self):\n",
    "        self.temperature = 20  # default\n",
    "\n",
    "    def set_temperature(self, temp):\n",
    "        if temp < 10 or temp > 35:\n",
    "            raise TemperatureOutOfRangeError(f\"Temperature {temp}°C out of range (10°C - 35°C).\")\n",
    "        self.temperature = temp\n",
    "        print(f\"Temperature set to {self.temperature}°C.\")\n",
    "\n",
    "# Test cases\n",
    "t = Thermostat()\n",
    "\n",
    "# Valid temperature\n",
    "t.set_temperature(25)\n",
    "\n",
    "# Invalid temperatures (will raise exceptions)\n",
    "try:\n",
    "    t.set_temperature(5)\n",
    "except TemperatureOutOfRangeError as e:\n",
    "    print(e)\n",
    "\n",
    "try:\n",
    "    t.set_temperature(40)\n",
    "except TemperatureOutOfRangeError as e:\n",
    "    print(e)\n"
   ]
  },
  {
   "cell_type": "markdown",
   "id": "3cdb53b4",
   "metadata": {},
   "source": [
    "2. (a)\n",
    "Write a decorator named LimitCalls that restricts any decorated function to be called maximum 3 times. After that, raise a TooManyCallsError. Show a test example."
   ]
  },
  {
   "cell_type": "markdown",
   "id": "dbe87ce0",
   "metadata": {},
   "source": [
    "3. (a)\n",
    "You have a CSV file sales.csv with columns: product, price, quantity.\n",
    "\n",
    "Write Pandas code to read this file.\n",
    "\n",
    "Find the total revenue for each product."
   ]
  },
  {
   "cell_type": "code",
   "execution_count": 4,
   "id": "91718a8c",
   "metadata": {},
   "outputs": [
    {
     "name": "stdout",
     "output_type": "stream",
     "text": [
      "product\n",
      "Headphones     500\n",
      "Keyboard       210\n",
      "Laptop        4000\n",
      "Monitor        600\n",
      "Mouse          240\n",
      "Name: revenue, dtype: int64\n"
     ]
    }
   ],
   "source": [
    "import pandas as pd\n",
    "\n",
    "df = pd.read_csv('sales.csv')\n",
    "df['revenue'] = df['price'] * df['quantity']\n",
    "total_revenue = df.groupby('product')['revenue'].sum()\n",
    "print(total_revenue)"
   ]
  },
  {
   "cell_type": "markdown",
   "id": "96f5fb4c",
   "metadata": {},
   "source": [
    "3. (b)\n",
    "What problems could arise if the price column has NaN values? Suggest a simple code snippet to handle it."
   ]
  },
  {
   "cell_type": "code",
   "execution_count": 5,
   "id": "740e6ca5",
   "metadata": {},
   "outputs": [
    {
     "name": "stderr",
     "output_type": "stream",
     "text": [
      "C:\\Users\\AKIL\\AppData\\Local\\Temp\\ipykernel_5316\\2181525010.py:1: FutureWarning: A value is trying to be set on a copy of a DataFrame or Series through chained assignment using an inplace method.\n",
      "The behavior will change in pandas 3.0. This inplace method will never work because the intermediate object on which we are setting values always behaves as a copy.\n",
      "\n",
      "For example, when doing 'df[col].method(value, inplace=True)', try using 'df.method({col: value}, inplace=True)' or df[col] = df[col].method(value) instead, to perform the operation inplace on the original object.\n",
      "\n",
      "\n",
      "  df['price'].fillna(0, inplace=True)\n"
     ]
    }
   ],
   "source": [
    "df['price'].fillna(0, inplace=True)"
   ]
  },
  {
   "cell_type": "markdown",
   "id": "0ef7035c",
   "metadata": {},
   "source": [
    "4.\n",
    "You run an e-commerce website and want to visualize the total quantity sold for each product category.\n",
    "\n",
    "What kind of plot will be best? Justify.\n",
    "\n",
    "Write Python code using matplotlib to generate this plot for the data:\n",
    "\n",
    "Category\tQuantity\n",
    "Electronics\t150\n",
    "Clothing\t200\n",
    "Home\t180\n",
    "Books\t120"
   ]
  },
  {
   "cell_type": "code",
   "execution_count": 2,
   "id": "50ffea84",
   "metadata": {},
   "outputs": [
    {
     "data": {
      "image/png": "[encoded data removed]",
      "text/plain": [
       "<Figure size 640x480 with 1 Axes>"
      ]
     },
     "metadata": {},
     "output_type": "display_data"
    }
   ],
   "source": [
    "import matplotlib.pyplot as plt\n",
    "\n",
    "Categories=[\"Electronics\",\"Clothing\",\"Home\",\"Books\"]\n",
    "Quantity=[150,200,180,120]\n",
    "\n",
    "plt.bar(Categories, Quantity)\n",
    "plt.xlabel(\"Product Category\")\n",
    "plt.ylabel(\"Product Sold\")\n",
    "plt.title(\"E-commerce Website Overview\")\n",
    "plt.show()"
   ]
  }
 ],
 "metadata": {
  "kernelspec": {
   "display_name": "Python 3",
   "language": "python",
   "name": "python3"
  },
  "language_info": {
   "codemirror_mode": {
    "name": "ipython",
    "version": 3
   },
   "file_extension": ".py",
   "mimetype": "text/x-python",
   "name": "python",
   "nbconvert_exporter": "python",
   "pygments_lexer": "ipython3",
   "version": "3.13.5"
  }
 },
 "nbformat": 4,
 "nbformat_minor": 5
}
